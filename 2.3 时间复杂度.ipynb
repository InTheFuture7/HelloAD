{
 "cells": [
  {
   "cell_type": "markdown",
   "metadata": {},
   "source": [
    "# 时间复杂度"
   ]
  },
  {
   "cell_type": "markdown",
   "metadata": {},
   "source": [
    "## 关于循环结构的时间复杂度分析"
   ]
  },
  {
   "cell_type": "markdown",
   "metadata": {},
   "source": [
    "控制结构的开销与循环体一致\n",
    "\n",
    "\n",
    "for 循环的控制结构（初始化、判断、步进），在大 O 表示法中，这些开销通常被合并到循环次数的总复杂度中 ，并不会单独体现为一个独立的复杂度项"
   ]
  },
  {
   "cell_type": "code",
   "execution_count": null,
   "metadata": {},
   "outputs": [],
   "source": [
    "n = input(\"input an integer:\")\n",
    "for i in range(5*n+1):\n",
    "    print(0)"
   ]
  },
  {
   "cell_type": "markdown",
   "metadata": {},
   "source": [
    "for 循环部分具体执行过程：\n",
    "\n",
    "- 初始化 i=0        整个过程只执行 1 次     O(1)\n",
    "- 判断 i<5n+1       每次循环都执行 1 次     (5n+1)*O(1)\n",
    "- 步进 i+=1         每次循环都执行 1 次     (5n+1)*O(1)\n",
    "- 循环体 print(0)   每次循环都执行 1 次     (5n+1)*O(1)\n",
    "\n",
    "以上求和即为：O(n)\n",
    "\n",
    "\n",
    "| 特性| for 循环| while 循环|\n",
    "|--|--|--|\n",
    "|初始化|内置于循环结构中|手动编写|\n",
    "|迭代|内置|手动|\n",
    "|条件判断|内置|内置|\n",
    "|时间复杂度|合并到循环体的复杂度|合并到循环体的复杂度|"
   ]
  },
  {
   "cell_type": "markdown",
   "metadata": {},
   "source": [
    "## 时间复杂度常见类型"
   ]
  },
  {
   "cell_type": "markdown",
   "metadata": {},
   "source": [
    "### 常数阶\n",
    "\n",
    "操作数量和输入数据 n 无关"
   ]
  },
  {
   "cell_type": "code",
   "execution_count": null,
   "metadata": {},
   "outputs": [],
   "source": [
    "def constant(n:int)->int:\n",
    "    count = 0\n",
    "    for i in range(100):\n",
    "        count += 1\n",
    "    return count"
   ]
  },
  {
   "cell_type": "markdown",
   "metadata": {},
   "source": [
    "### 线性阶\n",
    "\n",
    "线性阶的操作数量相对于输入数据大小 n 以线性级别增长，常见于**单层循环**中"
   ]
  },
  {
   "cell_type": "code",
   "execution_count": null,
   "metadata": {},
   "outputs": [],
   "source": [
    "def array_traversal(nums: list[int]) -> int:\n",
    "    count = 0\n",
    "    for i in range(nums):\n",
    "        count += i\n",
    "    return count"
   ]
  },
  {
   "cell_type": "markdown",
   "metadata": {},
   "source": [
    "### 平方阶\n",
    "\n",
    "平方阶的操作数量相对于输入数据大小 n 以平方级别增长。平方阶通常出现在嵌套循环中"
   ]
  },
  {
   "cell_type": "markdown",
   "metadata": {},
   "source": [
    "冒泡排序的核心是相邻元素两两比较并交换 ，通过多轮遍历将最大值逐步“冒泡”到数组末尾"
   ]
  },
  {
   "cell_type": "code",
   "execution_count": 3,
   "metadata": {},
   "outputs": [
    {
     "data": {
      "text/plain": [
       "(0, [1, 2, 3, 4, 5, 6])"
      ]
     },
     "execution_count": 3,
     "metadata": {},
     "output_type": "execute_result"
    }
   ],
   "source": [
    "# 冒泡排序,最大元素交换至该区间的最右端\n",
    "def bubble_sort(nums: list[int]) -> int:\n",
    "    count = 0  # 计数器\n",
    "    for i in range(len(nums)-1, 0, -1):  # 5 4 3 2 1\n",
    "        for j in range(i):  # 未排序区间 [0, i], range(0) 不会执行\n",
    "            # 思路：相邻两两元素比较\n",
    "            if nums[j] > nums[j+1]:\n",
    "                tmp = nums[j]\n",
    "                nums[j] = nums[j+1]\n",
    "                nums[j+1] = tmp\n",
    "                \n",
    "    return count, nums\n",
    "\n",
    "bubble_sort([1, 3, 5, 2, 4, 6])"
   ]
  },
  {
   "cell_type": "code",
   "execution_count": null,
   "metadata": {},
   "outputs": [],
   "source": []
  },
  {
   "cell_type": "code",
   "execution_count": null,
   "metadata": {},
   "outputs": [
    {
     "data": {
      "text/plain": [
       "(0, [1, 2, 3, 4, 5, 6])"
      ]
     },
     "execution_count": 2,
     "metadata": {},
     "output_type": "execute_result"
    }
   ],
   "source": [
    "# 非标准的选择排序：固定 i 位置的元素 ，与后面的元素逐一比较并交换\n",
    "def bubble_sort(nums: list[int]) -> int:\n",
    "    count = 0  # 计数器\n",
    "    for i in range(0, len(nums)):  # 0 1 2 3 4 5\n",
    "        # 思路：固定 nums[i]，依次和后面每个元素做比较\n",
    "        for j in range(i+1, len(nums)):  # 未排序区间 [ i+1, len(nums) )  \n",
    "            if nums[i] > nums[j]:\n",
    "                tmp = nums[i]\n",
    "                nums[i] = nums[j]\n",
    "                nums[j] = tmp\n",
    "\n",
    "    return count, nums\n",
    "\n",
    "bubble_sort([1, 3, 5, 2, 4, 6])"
   ]
  },
  {
   "cell_type": "markdown",
   "metadata": {},
   "source": [
    "标准选择排序 ：仅记录最小值索引 ，内层循环结束后才交换一次"
   ]
  },
  {
   "cell_type": "code",
   "execution_count": null,
   "metadata": {},
   "outputs": [],
   "source": []
  },
  {
   "cell_type": "markdown",
   "metadata": {},
   "source": [
    "### 指数阶"
   ]
  }
 ],
 "metadata": {
  "kernelspec": {
   "display_name": "llm-universe",
   "language": "python",
   "name": "llm-universe"
  },
  "language_info": {
   "codemirror_mode": {
    "name": "ipython",
    "version": 3
   },
   "file_extension": ".py",
   "mimetype": "text/x-python",
   "name": "python",
   "nbconvert_exporter": "python",
   "pygments_lexer": "ipython3",
   "version": "3.10.14"
  }
 },
 "nbformat": 4,
 "nbformat_minor": 2
}
