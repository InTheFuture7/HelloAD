{
 "cells": [
  {
   "cell_type": "markdown",
   "metadata": {},
   "source": [
    "# 时间复杂度"
   ]
  },
  {
   "cell_type": "markdown",
   "metadata": {},
   "source": [
    "## 关于循环结构的时间复杂度分析"
   ]
  },
  {
   "cell_type": "markdown",
   "metadata": {},
   "source": [
    "控制结构的开销与循环体一致\n",
    "\n",
    "\n",
    "for 循环的控制结构（初始化、判断、步进），在大 O 表示法中，这些开销通常被合并到循环次数的总复杂度中 ，并不会单独体现为一个独立的复杂度项"
   ]
  },
  {
   "cell_type": "code",
   "execution_count": null,
   "metadata": {},
   "outputs": [],
   "source": [
    "n = input(\"input an integer:\")\n",
    "for i in range(5*n+1):\n",
    "    print(0)"
   ]
  },
  {
   "cell_type": "markdown",
   "metadata": {},
   "source": [
    "for 循环部分具体执行过程：\n",
    "\n",
    "- 初始化 i=0        整个过程只执行 1 次     O(1)\n",
    "- 判断 i<5n+1       每次循环都执行 1 次     (5n+1)*O(1)\n",
    "- 步进 i+=1         每次循环都执行 1 次     (5n+1)*O(1)\n",
    "- 循环体 print(0)   每次循环都执行 1 次     (5n+1)*O(1)\n",
    "\n",
    "以上求和即为：O(n)\n",
    "\n",
    "\n",
    "| 特性| for 循环| while 循环|\n",
    "|--|--|--|\n",
    "|初始化|内置于循环结构中|手动编写|\n",
    "|迭代|内置|手动|\n",
    "|条件判断|内置|内置|\n",
    "|时间复杂度|合并到循环体的复杂度|合并到循环体的复杂度|"
   ]
  },
  {
   "cell_type": "markdown",
   "metadata": {},
   "source": [
    "## 时间复杂度常见类型"
   ]
  },
  {
   "cell_type": "markdown",
   "metadata": {},
   "source": [
    "### 常数阶\n",
    "\n",
    "操作数量和输入数据 n 无关"
   ]
  },
  {
   "cell_type": "code",
   "execution_count": null,
   "metadata": {},
   "outputs": [],
   "source": [
    "def constant(n:int)->int:\n",
    "    pass"
   ]
  },
  {
   "cell_type": "markdown",
   "metadata": {},
   "source": [
    "### 线性阶\n",
    "\n",
    "线性阶的操作数量相对于输入数据大小 n 以线性级别增长，常见于**单层循环**中"
   ]
  },
  {
   "cell_type": "code",
   "execution_count": null,
   "metadata": {},
   "outputs": [],
   "source": [
    "def array_traversal(nums: list[int]) -> int:\n",
    "    pass"
   ]
  },
  {
   "cell_type": "markdown",
   "metadata": {},
   "source": [
    "### 平方阶\n",
    "\n",
    "平方阶的操作数量相对于输入数据大小 n 以平方级别增长。平方阶通常出现在嵌套循环中"
   ]
  },
  {
   "cell_type": "code",
   "execution_count": null,
   "metadata": {},
   "outputs": [],
   "source": [
    "# 冒泡排序\n",
    "def bubble_sort(nums: list[int]) -> int:\n",
    "    count = 0  # 计数器\n",
    "    \n",
    "    return count"
   ]
  },
  {
   "cell_type": "markdown",
   "metadata": {},
   "source": [
    "### 指数阶"
   ]
  }
 ],
 "metadata": {
  "kernelspec": {
   "display_name": "llm-universe",
   "language": "python",
   "name": "llm-universe"
  },
  "language_info": {
   "name": "python",
   "version": "3.10.14"
  }
 },
 "nbformat": 4,
 "nbformat_minor": 2
}
