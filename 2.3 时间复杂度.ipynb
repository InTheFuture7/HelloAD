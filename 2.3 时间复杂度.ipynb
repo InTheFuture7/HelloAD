{
 "cells": [
  {
   "cell_type": "markdown",
   "metadata": {},
   "source": [
    "# 时间复杂度"
   ]
  },
  {
   "cell_type": "markdown",
   "metadata": {},
   "source": [
    "## 关于循环结构的时间复杂度分析"
   ]
  },
  {
   "cell_type": "markdown",
   "metadata": {},
   "source": [
    "控制结构的开销与循环体一致\n",
    "\n",
    "\n",
    "for 循环的控制结构（初始化、判断、步进），在大 O 表示法中，这些开销通常被合并到循环次数的总复杂度中 ，并不会单独体现为一个独立的复杂度项"
   ]
  },
  {
   "cell_type": "code",
   "execution_count": null,
   "metadata": {
    "vscode": {
     "languageId": "plaintext"
    }
   },
   "outputs": [],
   "source": [
    "for i in range(5n+1):\n",
    "    print(0)"
   ]
  },
  {
   "cell_type": "markdown",
   "metadata": {},
   "source": [
    "for 循环部分具体执行过程：\n",
    "\n",
    "- 初始化 i=0        整个过程只执行 1 次     O(1)\n",
    "- 判断 i<5n+1       每次循环都执行 1 次     (5n+1)*O(1)\n",
    "- 步进 i+=1         每次循环都执行 1 次     (5n+1)*O(1)\n",
    "- 循环体 print(0)   每次循环都执行 1 次     (5n+1)*O(1)\n",
    "\n",
    "以上求和即为：O(n)\n",
    "\n",
    "\n",
    "| 特性| for 循环| while 循环|\n",
    "|--|--|--|\n",
    "|初始化|内置于循环结构中|手动编写|\n",
    "|迭代|内置|手动|\n",
    "|条件判断|内置|内置|\n",
    "|时间复杂度|合并到循环体的复杂度|合并到循环体的复杂度|"
   ]
  }
 ],
 "metadata": {
  "language_info": {
   "name": "python"
  }
 },
 "nbformat": 4,
 "nbformat_minor": 2
}
