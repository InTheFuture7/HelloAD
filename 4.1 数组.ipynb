{
 "cells": [
  {
   "cell_type": "markdown",
   "metadata": {},
   "source": [
    "# 数组"
   ]
  },
  {
   "cell_type": "markdown",
   "metadata": {},
   "source": [
    "逻辑结构上看，数组是线性的；从物理结构上看，数组在内存空间中是连续存储的"
   ]
  },
  {
   "cell_type": "markdown",
   "metadata": {},
   "source": [
    "|操作|说明|\n",
    "|--|--|\n",
    "|初始化|  无初始值，默认为0；给定初始值|\n",
    "|访问元素| $O(1)$ 不理解|"
   ]
  }
 ],
 "metadata": {
  "language_info": {
   "name": "python"
  }
 },
 "nbformat": 4,
 "nbformat_minor": 2
}
